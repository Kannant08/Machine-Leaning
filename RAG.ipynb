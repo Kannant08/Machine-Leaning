{
  "nbformat": 4,
  "nbformat_minor": 0,
  "metadata": {
    "colab": {
      "provenance": [],
      "mount_file_id": "1gt77nCX-Q_Az5p7w_DlYFBLbixSmv7LL",
      "authorship_tag": "ABX9TyPSSBTO0Xw+mftyuMq6oFbl",
      "include_colab_link": true
    },
    "kernelspec": {
      "name": "python3",
      "display_name": "Python 3"
    },
    "language_info": {
      "name": "python"
    }
  },
  "cells": [
    {
      "cell_type": "markdown",
      "metadata": {
        "id": "view-in-github",
        "colab_type": "text"
      },
      "source": [
        "<a href=\"https://colab.research.google.com/github/Kannant08/Machine-Leaning/blob/main/RAG.ipynb\" target=\"_parent\"><img src=\"https://colab.research.google.com/assets/colab-badge.svg\" alt=\"Open In Colab\"/></a>"
      ]
    },
    {
      "cell_type": "code",
      "source": [
        "|from google.colab import drive\n",
        "drive.mount('/content/drive')"
      ],
      "metadata": {
        "colab": {
          "base_uri": "https://localhost:8080/"
        },
        "id": "x3XlggxM5SIQ",
        "outputId": "dd1011a6-e8e4-4668-ddab-45cd781a4afd"
      },
      "execution_count": null,
      "outputs": [
        {
          "output_type": "stream",
          "name": "stdout",
          "text": [
            "Mounted at /content/drive\n"
          ]
        }
      ]
    },
    {
      "cell_type": "code",
      "source": [
        "import fitz  # PyMuPDF\n",
        "from langchain.prompts import PromptTemplate\n",
        "from langchain.chains import RetrievalQA\n",
        "from langchain.llms import OpenAI\n",
        "from langchain.vectorstores import FAISS\n",
        "from langchain.embeddings import HuggingFaceEmbeddings\n",
        "from langchain_google_genai import GoogleGenerativeAIEmbeddings\n",
        "from langchain.text_splitter import CharacterTextSplitter\n",
        "from langchain.document_loaders import TextLoader\n",
        "from langchain.docstore.document import Document\n",
        "from langchain_groq import ChatGroq"
      ],
      "metadata": {
        "id": "zpvgZExT5UA6"
      },
      "execution_count": null,
      "outputs": []
    },
    {
      "cell_type": "code",
      "source": [
        "pdf_path = \"/kebo101.pdf\""
      ],
      "metadata": {
        "id": "Vzd3JF248tgu"
      },
      "execution_count": null,
      "outputs": []
    },
    {
      "cell_type": "code",
      "source": [
        "groq_api_key = \"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\""
      ],
      "metadata": {
        "id": "T3WjoIxh5fZe"
      },
      "execution_count": null,
      "outputs": []
    },
    {
      "cell_type": "code",
      "source": [
        "#llm = ChatGroq(groq_api_key = groq_api_key, model_name = \"Gemma-7b-it\")"
      ],
      "metadata": {
        "id": "tyufEL_e7QTz"
      },
      "execution_count": null,
      "outputs": []
    },
    {
      "cell_type": "code",
      "source": [
        "def extract_text_from_pdf(pdf_path):\n",
        "    doc = fitz.open(pdf_path)\n",
        "    text = \"\"\n",
        "    for page in doc:\n",
        "        text += page.get_text()\n",
        "    return text"
      ],
      "metadata": {
        "id": "hQeCaHOk7SVf"
      },
      "execution_count": null,
      "outputs": []
    },
    {
      "cell_type": "code",
      "source": [
        "def split_text(text):\n",
        "    text_splitter = CharacterTextSplitter(\n",
        "        separator=\"\\n\",\n",
        "        chunk_size=1000,\n",
        "        chunk_overlap=100,\n",
        "        length_function=len,\n",
        "    )\n",
        "    return text_splitter.split_text(text)"
      ],
      "metadata": {
        "id": "bLSU3Xkp7UuX"
      },
      "execution_count": null,
      "outputs": []
    },
    {
      "cell_type": "code",
      "source": [
        "def create_documents(chunks):\n",
        "    return [Document(page_content=chunk) for chunk in chunks]"
      ],
      "metadata": {
        "id": "j_LarZVp7Yah"
      },
      "execution_count": null,
      "outputs": []
    },
    {
      "cell_type": "code",
      "source": [
        "def create_retriever(documents):\n",
        "    embeddings = HuggingFaceEmbeddings(model_name=\"all-MiniLM-L6-v2\")\n",
        "    vectorstore = FAISS.from_documents(documents, embeddings)\n",
        "    return vectorstore.as_retriever()"
      ],
      "metadata": {
        "id": "uD04cyQ_7ae6"
      },
      "execution_count": null,
      "outputs": []
    },
    {
      "cell_type": "code",
      "source": [
        "def setup_qa_chain(retriever):\n",
        "    #llm = OpenAI(temperature=0)\n",
        "    llm = ChatGroq(groq_api_key = groq_api_key, model_name = \"Gemma-7b-it\")\n",
        "    prompt_template = \"\"\"Given the context provided and a question, generate an answer strictly based on the given context.\n",
        "Use as much of the text from the \"response\" section in the source document as possible, with minimal alterations.\n",
        "If the answer cannot be found in the context, respond with \"I don't know.\" Do not fabricate an answer.\n",
        "\n",
        "    CONTEXT: {context}\n",
        "\n",
        "    QUESTION: {question}\"\"\"\n",
        "\n",
        "    PROMPT = PromptTemplate(\n",
        "        template=prompt_template, input_variables=[\"context\", \"question\"]\n",
        "    )\n",
        "    chain_type_kwargs = {\"prompt\": PROMPT}\n",
        "\n",
        "    chain = RetrievalQA.from_chain_type(\n",
        "        llm=llm,\n",
        "        chain_type=\"stuff\",\n",
        "        retriever=retriever,\n",
        "        input_key=\"query\",\n",
        "        return_source_documents=True,\n",
        "        chain_type_kwargs=chain_type_kwargs,\n",
        "    )\n",
        "    return chain"
      ],
      "metadata": {
        "id": "7a0GFJ4C7d4T"
      },
      "execution_count": null,
      "outputs": []
    },
    {
      "cell_type": "code",
      "source": [
        "def main(pdf_path, question):\n",
        "\n",
        "    text = extract_text_from_pdf(pdf_path)\n",
        "\n",
        "    chunks = split_text(text)\n",
        "\n",
        "    documents = create_documents(chunks)\n",
        "\n",
        "    retriever = create_retriever(documents)\n",
        "\n",
        "    qa_chain = setup_qa_chain(retriever)\n",
        "\n",
        "    result = qa_chain({\"query\": question})\n",
        "    print(\"Answer:\", result['result'])\n",
        "    print(\"\\nSource Documents:\")\n",
        "    for doc in result['source_documents']:\n",
        "        print(doc.page_content[:500])"
      ],
      "metadata": {
        "id": "yiGwonKG8E0B"
      },
      "execution_count": null,
      "outputs": []
    },
    {
      "cell_type": "code",
      "source": [
        "if __name__ == \"__main__\":\n",
        "    pdf_path = pdf_path  # Replace with your PDF file path\n",
        "    question = \"what is taxanomy\"\n",
        "    main(pdf_path, question)"
      ],
      "metadata": {
        "colab": {
          "base_uri": "https://localhost:8080/"
        },
        "id": "2tbhgkh88Gqn",
        "outputId": "fafe6aa9-85c6-494a-f811-617968c49591"
      },
      "execution_count": 35,
      "outputs": [
        {
          "output_type": "stream",
          "name": "stderr",
          "text": [
            "/usr/local/lib/python3.10/dist-packages/transformers/tokenization_utils_base.py:1601: FutureWarning: `clean_up_tokenization_spaces` was not set. It will be set to `True` by default. This behavior will be depracted in transformers v4.45, and will be then set to `False` by default. For more details check this issue: https://github.com/huggingface/transformers/issues/31884\n",
            "  warnings.warn(\n"
          ]
        },
        {
          "output_type": "stream",
          "name": "stdout",
          "text": [
            "Answer: Taxonomy is the process of classifying living organisms based on their characteristics, structure, and evolutionary relationships. It involves characterization, identification, classification, and nomenclature of organisms, with the ultimate goal of understanding their diversity and relationships.\n",
            "\n",
            "Source Documents:\n",
            "talking about. Similarly, suppose we were to say ‘mammals’, you would,\n",
            "of course, think of animals with external ears and body hair. Likewise, in\n",
            "plants, if we try to talk of ‘Wheat’, the picture in each of our minds will be\n",
            "of wheat plants, not of rice or any other plant. Hence, all these - ‘Dogs’,\n",
            "‘Cats’, ‘Mammals’, ‘Wheat’, ‘Rice’, ‘Plants’, ‘Animals’, etc., are convenient\n",
            "categories we use to study organisms. The scientific term for these\n",
            "categories is taxa. Here you must recognise that taxa\n",
            "into different taxa. This process of classification is taxonomy. External\n",
            "and internal structure, along with the structure of cell, development\n",
            "process and ecological information of organisms are essential and form\n",
            "the basis of modern taxonomic studies.\n",
            "Hence, characterisation, identification, classification and nomenclature\n",
            "are the processes that are basic to taxonomy.\n",
            "Taxonomy is not something new. Human beings have always been\n",
            "interested in knowing more and more about the various kinds of\n",
            "org\n",
            "Mangifera indica\n",
            "6.\n",
            "Define a taxon. Give some examples of taxa at different hierarchical\n",
            "levels.\n",
            "7.\n",
            "Can  you identify the correct sequence of taxonomical categories?\n",
            "(a)\n",
            "Species\n",
            "Order\n",
            "Phylum\n",
            "Kingdom\n",
            "(b)\n",
            "Genus\n",
            "Species\n",
            "Order\n",
            "Kingdom\n",
            "(c)\n",
            "Species\n",
            "Genus\n",
            "Order\n",
            "Phylum\n",
            "8.\n",
            "Try to collect all the currently accepted meanings for the word ‘species’.\n",
            "Discuss with your teacher the meaning of species in case of higher\n",
            "plants and animals on one hand, and bacteria on the other hand.\n",
            "9.\n",
            "Define and understand the \n",
            "relationships among them. This branch of study was referred to as\n",
            "systematics. The word systematics is derived from the Latin word\n",
            "‘systema’ which means systematic arrangement of organisms.  Linnaeus\n",
            "2024-25\n",
            "6\n",
            "BIOLOGY\n",
            "used Systema Naturae as the  title of his publication.  The scope of\n",
            "systematics was later enlarged to include identification, nomenclature\n",
            "and classification. Systematics takes into account evolutionary\n",
            "relationships between organisms.\n",
            "1.2\n",
            "TAXONOMIC CATEGORIES\n",
            "Classification is no\n"
          ]
        }
      ]
    },
    {
      "cell_type": "code",
      "source": [],
      "metadata": {
        "id": "2gTtreZc8xkJ"
      },
      "execution_count": null,
      "outputs": []
    }
  ]
}