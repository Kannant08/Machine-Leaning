{
 "cells": [
  {
   "cell_type": "code",
   "execution_count": 151,
   "id": "85333a18",
   "metadata": {},
   "outputs": [],
   "source": [
    "import pandas as pd\n",
    "import numpy as np\n",
    "import matplotlib as plt\n",
    "import seaborn as sns\n",
    "%matplotlib inline"
   ]
  },
  {
   "cell_type": "code",
   "execution_count": 152,
   "id": "7eb77b7a",
   "metadata": {},
   "outputs": [],
   "source": [
    "df=pd.read_csv('C:/Users/THIRU/Documents/DATA SET/Drug.csv')"
   ]
  },
  {
   "cell_type": "code",
   "execution_count": 153,
   "id": "d9789957",
   "metadata": {},
   "outputs": [
    {
     "data": {
      "text/html": [
       "<div>\n",
       "<style scoped>\n",
       "    .dataframe tbody tr th:only-of-type {\n",
       "        vertical-align: middle;\n",
       "    }\n",
       "\n",
       "    .dataframe tbody tr th {\n",
       "        vertical-align: top;\n",
       "    }\n",
       "\n",
       "    .dataframe thead th {\n",
       "        text-align: right;\n",
       "    }\n",
       "</style>\n",
       "<table border=\"1\" class=\"dataframe\">\n",
       "  <thead>\n",
       "    <tr style=\"text-align: right;\">\n",
       "      <th></th>\n",
       "      <th>Condition</th>\n",
       "      <th>Drug</th>\n",
       "      <th>Indication</th>\n",
       "      <th>Type</th>\n",
       "      <th>Reviews</th>\n",
       "      <th>Effective</th>\n",
       "      <th>EaseOfUse</th>\n",
       "      <th>Satisfaction</th>\n",
       "      <th>Information</th>\n",
       "    </tr>\n",
       "  </thead>\n",
       "  <tbody>\n",
       "    <tr>\n",
       "      <th>0</th>\n",
       "      <td>Acute Bacterial Sinusitis</td>\n",
       "      <td>Levofloxacin</td>\n",
       "      <td>On Label</td>\n",
       "      <td>RX</td>\n",
       "      <td>994 Reviews</td>\n",
       "      <td>2.52</td>\n",
       "      <td>3.01</td>\n",
       "      <td>1.84</td>\n",
       "      <td>\\r\\n\\t\\t\\t\\t\\tLevofloxacin is used to treat a ...</td>\n",
       "    </tr>\n",
       "    <tr>\n",
       "      <th>1</th>\n",
       "      <td>Acute Bacterial Sinusitis</td>\n",
       "      <td>Levofloxacin</td>\n",
       "      <td>On Label</td>\n",
       "      <td>RX</td>\n",
       "      <td>994 Reviews</td>\n",
       "      <td>2.52</td>\n",
       "      <td>3.01</td>\n",
       "      <td>1.84</td>\n",
       "      <td>\\r\\n\\t\\t\\t\\t\\tLevofloxacin is used to treat a ...</td>\n",
       "    </tr>\n",
       "    <tr>\n",
       "      <th>2</th>\n",
       "      <td>Acute Bacterial Sinusitis</td>\n",
       "      <td>Moxifloxacin</td>\n",
       "      <td>On Label</td>\n",
       "      <td>RX</td>\n",
       "      <td>755 Reviews</td>\n",
       "      <td>2.78</td>\n",
       "      <td>3.00</td>\n",
       "      <td>2.08</td>\n",
       "      <td>\\r\\n\\t\\t\\t\\t\\t This is a generic drug. The ave...</td>\n",
       "    </tr>\n",
       "    <tr>\n",
       "      <th>3</th>\n",
       "      <td>Acute Bacterial Sinusitis</td>\n",
       "      <td>Azithromycin</td>\n",
       "      <td>On Label</td>\n",
       "      <td>RX</td>\n",
       "      <td>584 Reviews</td>\n",
       "      <td>3.21</td>\n",
       "      <td>4.01</td>\n",
       "      <td>2.57</td>\n",
       "      <td>\\r\\n\\t\\t\\t\\t\\tAzithromycin is an antibiotic (m...</td>\n",
       "    </tr>\n",
       "    <tr>\n",
       "      <th>4</th>\n",
       "      <td>Acute Bacterial Sinusitis</td>\n",
       "      <td>Azithromycin</td>\n",
       "      <td>On Label</td>\n",
       "      <td>RX</td>\n",
       "      <td>584 Reviews</td>\n",
       "      <td>3.21</td>\n",
       "      <td>4.01</td>\n",
       "      <td>2.57</td>\n",
       "      <td>\\r\\n\\t\\t\\t\\t\\tAzithromycin is an antibiotic (m...</td>\n",
       "    </tr>\n",
       "  </tbody>\n",
       "</table>\n",
       "</div>"
      ],
      "text/plain": [
       "                   Condition          Drug Indication Type      Reviews  \\\n",
       "0  Acute Bacterial Sinusitis  Levofloxacin   On Label   RX  994 Reviews   \n",
       "1  Acute Bacterial Sinusitis  Levofloxacin   On Label   RX  994 Reviews   \n",
       "2  Acute Bacterial Sinusitis  Moxifloxacin   On Label   RX  755 Reviews   \n",
       "3  Acute Bacterial Sinusitis  Azithromycin   On Label   RX  584 Reviews   \n",
       "4  Acute Bacterial Sinusitis  Azithromycin   On Label   RX  584 Reviews   \n",
       "\n",
       "   Effective  EaseOfUse  Satisfaction  \\\n",
       "0       2.52       3.01          1.84   \n",
       "1       2.52       3.01          1.84   \n",
       "2       2.78       3.00          2.08   \n",
       "3       3.21       4.01          2.57   \n",
       "4       3.21       4.01          2.57   \n",
       "\n",
       "                                         Information  \n",
       "0  \\r\\n\\t\\t\\t\\t\\tLevofloxacin is used to treat a ...  \n",
       "1  \\r\\n\\t\\t\\t\\t\\tLevofloxacin is used to treat a ...  \n",
       "2  \\r\\n\\t\\t\\t\\t\\t This is a generic drug. The ave...  \n",
       "3  \\r\\n\\t\\t\\t\\t\\tAzithromycin is an antibiotic (m...  \n",
       "4  \\r\\n\\t\\t\\t\\t\\tAzithromycin is an antibiotic (m...  "
      ]
     },
     "execution_count": 153,
     "metadata": {},
     "output_type": "execute_result"
    }
   ],
   "source": [
    "df.head()"
   ]
  },
  {
   "cell_type": "code",
   "execution_count": 154,
   "id": "68570927",
   "metadata": {},
   "outputs": [],
   "source": [
    "df=df.drop_duplicates()"
   ]
  },
  {
   "cell_type": "code",
   "execution_count": 155,
   "id": "6e596cbb",
   "metadata": {},
   "outputs": [
    {
     "data": {
      "text/html": [
       "<div>\n",
       "<style scoped>\n",
       "    .dataframe tbody tr th:only-of-type {\n",
       "        vertical-align: middle;\n",
       "    }\n",
       "\n",
       "    .dataframe tbody tr th {\n",
       "        vertical-align: top;\n",
       "    }\n",
       "\n",
       "    .dataframe thead th {\n",
       "        text-align: right;\n",
       "    }\n",
       "</style>\n",
       "<table border=\"1\" class=\"dataframe\">\n",
       "  <thead>\n",
       "    <tr style=\"text-align: right;\">\n",
       "      <th></th>\n",
       "      <th>Condition</th>\n",
       "      <th>Drug</th>\n",
       "      <th>Indication</th>\n",
       "      <th>Type</th>\n",
       "      <th>Reviews</th>\n",
       "      <th>Effective</th>\n",
       "      <th>EaseOfUse</th>\n",
       "      <th>Satisfaction</th>\n",
       "      <th>Information</th>\n",
       "    </tr>\n",
       "  </thead>\n",
       "  <tbody>\n",
       "    <tr>\n",
       "      <th>0</th>\n",
       "      <td>Acute Bacterial Sinusitis</td>\n",
       "      <td>Levofloxacin</td>\n",
       "      <td>On Label</td>\n",
       "      <td>RX</td>\n",
       "      <td>994 Reviews</td>\n",
       "      <td>2.52</td>\n",
       "      <td>3.01</td>\n",
       "      <td>1.84</td>\n",
       "      <td>\\r\\n\\t\\t\\t\\t\\tLevofloxacin is used to treat a ...</td>\n",
       "    </tr>\n",
       "    <tr>\n",
       "      <th>2</th>\n",
       "      <td>Acute Bacterial Sinusitis</td>\n",
       "      <td>Moxifloxacin</td>\n",
       "      <td>On Label</td>\n",
       "      <td>RX</td>\n",
       "      <td>755 Reviews</td>\n",
       "      <td>2.78</td>\n",
       "      <td>3.00</td>\n",
       "      <td>2.08</td>\n",
       "      <td>\\r\\n\\t\\t\\t\\t\\t This is a generic drug. The ave...</td>\n",
       "    </tr>\n",
       "    <tr>\n",
       "      <th>3</th>\n",
       "      <td>Acute Bacterial Sinusitis</td>\n",
       "      <td>Azithromycin</td>\n",
       "      <td>On Label</td>\n",
       "      <td>RX</td>\n",
       "      <td>584 Reviews</td>\n",
       "      <td>3.21</td>\n",
       "      <td>4.01</td>\n",
       "      <td>2.57</td>\n",
       "      <td>\\r\\n\\t\\t\\t\\t\\tAzithromycin is an antibiotic (m...</td>\n",
       "    </tr>\n",
       "    <tr>\n",
       "      <th>8</th>\n",
       "      <td>Acute Bacterial Sinusitis</td>\n",
       "      <td>Amoxicillin-Pot Clavulanate</td>\n",
       "      <td>On Label</td>\n",
       "      <td>RX</td>\n",
       "      <td>437 Reviews</td>\n",
       "      <td>3.26</td>\n",
       "      <td>3.23</td>\n",
       "      <td>2.42</td>\n",
       "      <td>\\r\\n\\t\\t\\t\\t\\tAmoxicillin/clavulanic acid is a...</td>\n",
       "    </tr>\n",
       "    <tr>\n",
       "      <th>11</th>\n",
       "      <td>Acute Bacterial Sinusitis</td>\n",
       "      <td>Levofloxacin</td>\n",
       "      <td>On Label</td>\n",
       "      <td>RX</td>\n",
       "      <td>361 Reviews</td>\n",
       "      <td>2.44</td>\n",
       "      <td>2.96</td>\n",
       "      <td>1.68</td>\n",
       "      <td>\\r\\n\\t\\t\\t\\t\\tLevofloxacin is used to treat a ...</td>\n",
       "    </tr>\n",
       "  </tbody>\n",
       "</table>\n",
       "</div>"
      ],
      "text/plain": [
       "                    Condition                         Drug Indication Type  \\\n",
       "0   Acute Bacterial Sinusitis                 Levofloxacin   On Label   RX   \n",
       "2   Acute Bacterial Sinusitis                 Moxifloxacin   On Label   RX   \n",
       "3   Acute Bacterial Sinusitis                 Azithromycin   On Label   RX   \n",
       "8   Acute Bacterial Sinusitis  Amoxicillin-Pot Clavulanate   On Label   RX   \n",
       "11  Acute Bacterial Sinusitis                 Levofloxacin   On Label   RX   \n",
       "\n",
       "        Reviews  Effective  EaseOfUse  Satisfaction  \\\n",
       "0   994 Reviews       2.52       3.01          1.84   \n",
       "2   755 Reviews       2.78       3.00          2.08   \n",
       "3   584 Reviews       3.21       4.01          2.57   \n",
       "8   437 Reviews       3.26       3.23          2.42   \n",
       "11  361 Reviews       2.44       2.96          1.68   \n",
       "\n",
       "                                          Information  \n",
       "0   \\r\\n\\t\\t\\t\\t\\tLevofloxacin is used to treat a ...  \n",
       "2   \\r\\n\\t\\t\\t\\t\\t This is a generic drug. The ave...  \n",
       "3   \\r\\n\\t\\t\\t\\t\\tAzithromycin is an antibiotic (m...  \n",
       "8   \\r\\n\\t\\t\\t\\t\\tAmoxicillin/clavulanic acid is a...  \n",
       "11  \\r\\n\\t\\t\\t\\t\\tLevofloxacin is used to treat a ...  "
      ]
     },
     "execution_count": 155,
     "metadata": {},
     "output_type": "execute_result"
    }
   ],
   "source": [
    "df.head()"
   ]
  },
  {
   "cell_type": "code",
   "execution_count": 156,
   "id": "a9a40a6c",
   "metadata": {},
   "outputs": [
    {
     "data": {
      "text/plain": [
       "Condition       False\n",
       "Drug            False\n",
       "Indication      False\n",
       "Type            False\n",
       "Reviews         False\n",
       "Effective       False\n",
       "EaseOfUse       False\n",
       "Satisfaction    False\n",
       "Information     False\n",
       "dtype: bool"
      ]
     },
     "execution_count": 156,
     "metadata": {},
     "output_type": "execute_result"
    }
   ],
   "source": [
    "df.isnull().any()"
   ]
  },
  {
   "cell_type": "code",
   "execution_count": 157,
   "id": "0ea73b26",
   "metadata": {},
   "outputs": [
    {
     "data": {
      "text/html": [
       "<div>\n",
       "<style scoped>\n",
       "    .dataframe tbody tr th:only-of-type {\n",
       "        vertical-align: middle;\n",
       "    }\n",
       "\n",
       "    .dataframe tbody tr th {\n",
       "        vertical-align: top;\n",
       "    }\n",
       "\n",
       "    .dataframe thead th {\n",
       "        text-align: right;\n",
       "    }\n",
       "</style>\n",
       "<table border=\"1\" class=\"dataframe\">\n",
       "  <thead>\n",
       "    <tr style=\"text-align: right;\">\n",
       "      <th></th>\n",
       "      <th>Condition</th>\n",
       "      <th>Drug</th>\n",
       "      <th>Indication</th>\n",
       "      <th>Type</th>\n",
       "      <th>Reviews</th>\n",
       "      <th>Effective</th>\n",
       "      <th>EaseOfUse</th>\n",
       "      <th>Satisfaction</th>\n",
       "      <th>Information</th>\n",
       "    </tr>\n",
       "  </thead>\n",
       "  <tbody>\n",
       "    <tr>\n",
       "      <th>0</th>\n",
       "      <td>Acute Bacterial Sinusitis</td>\n",
       "      <td>Levofloxacin</td>\n",
       "      <td>On Label</td>\n",
       "      <td>RX</td>\n",
       "      <td>994.0</td>\n",
       "      <td>2.52</td>\n",
       "      <td>3.01</td>\n",
       "      <td>1.84</td>\n",
       "      <td>\\r\\n\\t\\t\\t\\t\\tLevofloxacin is used to treat a ...</td>\n",
       "    </tr>\n",
       "    <tr>\n",
       "      <th>2</th>\n",
       "      <td>Acute Bacterial Sinusitis</td>\n",
       "      <td>Moxifloxacin</td>\n",
       "      <td>On Label</td>\n",
       "      <td>RX</td>\n",
       "      <td>755.0</td>\n",
       "      <td>2.78</td>\n",
       "      <td>3.00</td>\n",
       "      <td>2.08</td>\n",
       "      <td>\\r\\n\\t\\t\\t\\t\\t This is a generic drug. The ave...</td>\n",
       "    </tr>\n",
       "    <tr>\n",
       "      <th>3</th>\n",
       "      <td>Acute Bacterial Sinusitis</td>\n",
       "      <td>Azithromycin</td>\n",
       "      <td>On Label</td>\n",
       "      <td>RX</td>\n",
       "      <td>584.0</td>\n",
       "      <td>3.21</td>\n",
       "      <td>4.01</td>\n",
       "      <td>2.57</td>\n",
       "      <td>\\r\\n\\t\\t\\t\\t\\tAzithromycin is an antibiotic (m...</td>\n",
       "    </tr>\n",
       "    <tr>\n",
       "      <th>8</th>\n",
       "      <td>Acute Bacterial Sinusitis</td>\n",
       "      <td>Amoxicillin-Pot Clavulanate</td>\n",
       "      <td>On Label</td>\n",
       "      <td>RX</td>\n",
       "      <td>437.0</td>\n",
       "      <td>3.26</td>\n",
       "      <td>3.23</td>\n",
       "      <td>2.42</td>\n",
       "      <td>\\r\\n\\t\\t\\t\\t\\tAmoxicillin/clavulanic acid is a...</td>\n",
       "    </tr>\n",
       "    <tr>\n",
       "      <th>11</th>\n",
       "      <td>Acute Bacterial Sinusitis</td>\n",
       "      <td>Levofloxacin</td>\n",
       "      <td>On Label</td>\n",
       "      <td>RX</td>\n",
       "      <td>361.0</td>\n",
       "      <td>2.44</td>\n",
       "      <td>2.96</td>\n",
       "      <td>1.68</td>\n",
       "      <td>\\r\\n\\t\\t\\t\\t\\tLevofloxacin is used to treat a ...</td>\n",
       "    </tr>\n",
       "  </tbody>\n",
       "</table>\n",
       "</div>"
      ],
      "text/plain": [
       "                    Condition                         Drug Indication Type  \\\n",
       "0   Acute Bacterial Sinusitis                 Levofloxacin   On Label   RX   \n",
       "2   Acute Bacterial Sinusitis                 Moxifloxacin   On Label   RX   \n",
       "3   Acute Bacterial Sinusitis                 Azithromycin   On Label   RX   \n",
       "8   Acute Bacterial Sinusitis  Amoxicillin-Pot Clavulanate   On Label   RX   \n",
       "11  Acute Bacterial Sinusitis                 Levofloxacin   On Label   RX   \n",
       "\n",
       "    Reviews  Effective  EaseOfUse  Satisfaction  \\\n",
       "0     994.0       2.52       3.01          1.84   \n",
       "2     755.0       2.78       3.00          2.08   \n",
       "3     584.0       3.21       4.01          2.57   \n",
       "8     437.0       3.26       3.23          2.42   \n",
       "11    361.0       2.44       2.96          1.68   \n",
       "\n",
       "                                          Information  \n",
       "0   \\r\\n\\t\\t\\t\\t\\tLevofloxacin is used to treat a ...  \n",
       "2   \\r\\n\\t\\t\\t\\t\\t This is a generic drug. The ave...  \n",
       "3   \\r\\n\\t\\t\\t\\t\\tAzithromycin is an antibiotic (m...  \n",
       "8   \\r\\n\\t\\t\\t\\t\\tAmoxicillin/clavulanic acid is a...  \n",
       "11  \\r\\n\\t\\t\\t\\t\\tLevofloxacin is used to treat a ...  "
      ]
     },
     "execution_count": 157,
     "metadata": {},
     "output_type": "execute_result"
    }
   ],
   "source": [
    "df['Reviews'] = df['Reviews'].str.replace(r'[^0-9.]', '', regex=True).astype(float)\n",
    "df.head()"
   ]
  },
  {
   "cell_type": "code",
   "execution_count": 158,
   "id": "69f8d95f",
   "metadata": {},
   "outputs": [
    {
     "data": {
      "text/plain": [
       "(1753, 9)"
      ]
     },
     "execution_count": 158,
     "metadata": {},
     "output_type": "execute_result"
    }
   ],
   "source": [
    "df.shape"
   ]
  },
  {
   "cell_type": "code",
   "execution_count": 159,
   "id": "cf766a9a",
   "metadata": {},
   "outputs": [],
   "source": [
    "df['Indication'].replace('\\r\\n', 'Unknown', inplace=True)"
   ]
  },
  {
   "cell_type": "code",
   "execution_count": 160,
   "id": "5933a95b",
   "metadata": {},
   "outputs": [],
   "source": [
    "df['Type'].replace('\\r\\n', 'Unknown', inplace=True)"
   ]
  },
  {
   "cell_type": "code",
   "execution_count": 161,
   "id": "37e90260",
   "metadata": {
    "scrolled": true
   },
   "outputs": [
    {
     "data": {
      "text/plain": [
       "fever                                        227\n",
       "hypertension                                 215\n",
       "Atopic Dermatitis                            172\n",
       "endometriosis                                149\n",
       "Bacterial Urinary Tract Infection            104\n",
       "back pain                                     92\n",
       "gastroesophageal reflux disease               92\n",
       "gout                                          82\n",
       "vertigo                                       60\n",
       "hypercholesterolemia                          56\n",
       "Pharyngitis due to Streptococcus Pyogenes     51\n",
       "flatulence                                    45\n",
       "hemorrhoids                                   42\n",
       "edema                                         39\n",
       "Acute Bacterial Sinusitis                     37\n",
       "diverticulitis of gastrointestinal tract      36\n",
       "Bacterial Conjunctivitis                      34\n",
       "prevention of cerebrovascular accident        30\n",
       "depression                                    28\n",
       "vulvovaginal candidiasis                      27\n",
       "fibromyalgia                                  22\n",
       "sore throat                                   20\n",
       "adenocarcinoma of pancreas                    14\n",
       "oral candidiasis                               9\n",
       "genital herpes simplex                         9\n",
       "impetigo                                       7\n",
       "Infantile Autism                               7\n",
       "pyelonephritis                                 7\n",
       "meniere's disease                              6\n",
       "herpes zoster                                  6\n",
       "scabies                                        6\n",
       "furunculosis                                   6\n",
       "chickenpox                                     4\n",
       "Sleepiness Due To Obstructive Sleep Apnea      4\n",
       "biliary calculus                               4\n",
       "Influenza                                      3\n",
       "colorectal cancer                              1\n",
       "Name: Condition, dtype: int64"
      ]
     },
     "execution_count": 161,
     "metadata": {},
     "output_type": "execute_result"
    }
   ],
   "source": [
    "df['Condition'].value_counts()"
   ]
  },
  {
   "cell_type": "code",
   "execution_count": 162,
   "id": "1a0ee30d",
   "metadata": {},
   "outputs": [
    {
     "data": {
      "text/plain": [
       "Acetaminophen                                   79\n",
       "Ibuprofen                                       43\n",
       "Diphenhydramine Hcl                             40\n",
       "Norethindrone-Ethin Estradiol                   30\n",
       "Sulfamethoxazole-Trimethoprim                   30\n",
       "                                                ..\n",
       "Phenyleph-Min Oil-Petrolatum                     1\n",
       "Diphenhydramine-Calamine, Pramoxine-Calamine     1\n",
       "Famciclovir                                      1\n",
       "Metronidazole In Nacl (Iso-Os)                   1\n",
       "Losartan                                         1\n",
       "Name: Drug, Length: 470, dtype: int64"
      ]
     },
     "execution_count": 162,
     "metadata": {},
     "output_type": "execute_result"
    }
   ],
   "source": [
    "df['Drug'].value_counts()"
   ]
  },
  {
   "cell_type": "code",
   "execution_count": 163,
   "id": "76542255",
   "metadata": {},
   "outputs": [
    {
     "data": {
      "text/plain": [
       "Drug\n",
       "Pregabalin     3066.000000\n",
       "Lisinopril     2166.500000\n",
       "Duloxetine     1593.333333\n",
       "Meloxicam       813.000000\n",
       "Simvastatin     806.000000\n",
       "Name: Reviews, dtype: float64"
      ]
     },
     "execution_count": 163,
     "metadata": {},
     "output_type": "execute_result"
    }
   ],
   "source": [
    "df.groupby('Drug')['Reviews'].mean().sort_values(ascending=False).head()"
   ]
  },
  {
   "cell_type": "code",
   "execution_count": 164,
   "id": "bcf0d8bf",
   "metadata": {},
   "outputs": [],
   "source": [
    "df_grouped = df.groupby('Indication').agg({'Satisfaction': 'mean'}).reset_index()"
   ]
  },
  {
   "cell_type": "code",
   "execution_count": 165,
   "id": "d658630e",
   "metadata": {},
   "outputs": [
    {
     "data": {
      "text/html": [
       "<div>\n",
       "<style scoped>\n",
       "    .dataframe tbody tr th:only-of-type {\n",
       "        vertical-align: middle;\n",
       "    }\n",
       "\n",
       "    .dataframe tbody tr th {\n",
       "        vertical-align: top;\n",
       "    }\n",
       "\n",
       "    .dataframe thead th {\n",
       "        text-align: right;\n",
       "    }\n",
       "</style>\n",
       "<table border=\"1\" class=\"dataframe\">\n",
       "  <thead>\n",
       "    <tr style=\"text-align: right;\">\n",
       "      <th></th>\n",
       "      <th>Indication</th>\n",
       "      <th>Satisfaction</th>\n",
       "    </tr>\n",
       "  </thead>\n",
       "  <tbody>\n",
       "    <tr>\n",
       "      <th>0</th>\n",
       "      <td>Off Label</td>\n",
       "      <td>3.069349</td>\n",
       "    </tr>\n",
       "    <tr>\n",
       "      <th>1</th>\n",
       "      <td>On Label</td>\n",
       "      <td>3.201934</td>\n",
       "    </tr>\n",
       "    <tr>\n",
       "      <th>2</th>\n",
       "      <td>Unknown</td>\n",
       "      <td>3.601667</td>\n",
       "    </tr>\n",
       "  </tbody>\n",
       "</table>\n",
       "</div>"
      ],
      "text/plain": [
       "  Indication  Satisfaction\n",
       "0  Off Label      3.069349\n",
       "1   On Label      3.201934\n",
       "2    Unknown      3.601667"
      ]
     },
     "execution_count": 165,
     "metadata": {},
     "output_type": "execute_result"
    }
   ],
   "source": [
    "df_grouped.head()"
   ]
  },
  {
   "cell_type": "code",
   "execution_count": 166,
   "id": "627bc598",
   "metadata": {},
   "outputs": [
    {
     "data": {
      "text/plain": [
       "<Axes: xlabel='Indication', ylabel='Satisfaction'>"
      ]
     },
     "execution_count": 166,
     "metadata": {},
     "output_type": "execute_result"
    },
    {
     "data": {
      "image/png": "[encoded data removed]",
      "text/plain": [
       "<Figure size 640x480 with 1 Axes>"
      ]
     },
     "metadata": {},
     "output_type": "display_data"
    }
   ],
   "source": [
    "sns.barplot(x='Indication',y='Satisfaction',data=df_grouped)"
   ]
  },
  {
   "cell_type": "code",
   "execution_count": 167,
   "id": "8099ced0",
   "metadata": {},
   "outputs": [
    {
     "data": {
      "text/plain": [
       "<Axes: xlabel='Indication', ylabel='Effective'>"
      ]
     },
     "execution_count": 167,
     "metadata": {},
     "output_type": "execute_result"
    },
    {
     "data": {
      "image/png": "[encoded data removed]",
      "text/plain": [
       "<Figure size 640x480 with 1 Axes>"
      ]
     },
     "metadata": {},
     "output_type": "display_data"
    }
   ],
   "source": [
    "sns.boxplot(x='Indication',y='Effective',data=df)"
   ]
  },
  {
   "cell_type": "code",
   "execution_count": 168,
   "id": "b466c1fe",
   "metadata": {},
   "outputs": [
    {
     "data": {
      "text/plain": [
       "<Axes: xlabel='Type', ylabel='Effective'>"
      ]
     },
     "execution_count": 168,
     "metadata": {},
     "output_type": "execute_result"
    },
    {
     "data": {
      "image/png": "[encoded data removed]",
      "text/plain": [
       "<Figure size 640x480 with 1 Axes>"
      ]
     },
     "metadata": {},
     "output_type": "display_data"
    }
   ],
   "source": [
    "sns.boxplot(x='Type',y='Effective',data=df)"
   ]
  },
  {
   "cell_type": "code",
   "execution_count": 202,
   "id": "f8c60a2b",
   "metadata": {},
   "outputs": [],
   "source": [
    "condition = 'hypertension'"
   ]
  },
  {
   "cell_type": "code",
   "execution_count": 203,
   "id": "5ea2e87f",
   "metadata": {},
   "outputs": [],
   "source": [
    "from sklearn.feature_extraction.text import TfidfVectorizer\n",
    "from sklearn.metrics.pairwise import cosine_similarity"
   ]
  },
  {
   "cell_type": "code",
   "execution_count": 204,
   "id": "e183ca86",
   "metadata": {},
   "outputs": [],
   "source": [
    "features = ['EaseOfUse', 'Effective', 'Satisfaction', 'Information']"
   ]
  },
  {
   "cell_type": "code",
   "execution_count": 205,
   "id": "ad045978",
   "metadata": {},
   "outputs": [],
   "source": [
    "df['combined_features'] = df[features].apply(lambda x: ' '.join(x.dropna().astype(str)), axis=1)"
   ]
  },
  {
   "cell_type": "code",
   "execution_count": 206,
   "id": "3c6a10a3",
   "metadata": {},
   "outputs": [
    {
     "data": {
      "text/html": [
       "<div>\n",
       "<style scoped>\n",
       "    .dataframe tbody tr th:only-of-type {\n",
       "        vertical-align: middle;\n",
       "    }\n",
       "\n",
       "    .dataframe tbody tr th {\n",
       "        vertical-align: top;\n",
       "    }\n",
       "\n",
       "    .dataframe thead th {\n",
       "        text-align: right;\n",
       "    }\n",
       "</style>\n",
       "<table border=\"1\" class=\"dataframe\">\n",
       "  <thead>\n",
       "    <tr style=\"text-align: right;\">\n",
       "      <th></th>\n",
       "      <th>Condition</th>\n",
       "      <th>Drug</th>\n",
       "      <th>Indication</th>\n",
       "      <th>Type</th>\n",
       "      <th>Reviews</th>\n",
       "      <th>Effective</th>\n",
       "      <th>EaseOfUse</th>\n",
       "      <th>Satisfaction</th>\n",
       "      <th>Information</th>\n",
       "      <th>combined_features</th>\n",
       "    </tr>\n",
       "  </thead>\n",
       "  <tbody>\n",
       "    <tr>\n",
       "      <th>0</th>\n",
       "      <td>Acute Bacterial Sinusitis</td>\n",
       "      <td>Levofloxacin</td>\n",
       "      <td>On Label</td>\n",
       "      <td>RX</td>\n",
       "      <td>994.0</td>\n",
       "      <td>2.52</td>\n",
       "      <td>3.01</td>\n",
       "      <td>1.84</td>\n",
       "      <td>\\r\\n\\t\\t\\t\\t\\tLevofloxacin is used to treat a ...</td>\n",
       "      <td>3.01 2.52 1.84 \\r\\n\\t\\t\\t\\t\\tLevofloxacin is u...</td>\n",
       "    </tr>\n",
       "    <tr>\n",
       "      <th>2</th>\n",
       "      <td>Acute Bacterial Sinusitis</td>\n",
       "      <td>Moxifloxacin</td>\n",
       "      <td>On Label</td>\n",
       "      <td>RX</td>\n",
       "      <td>755.0</td>\n",
       "      <td>2.78</td>\n",
       "      <td>3.00</td>\n",
       "      <td>2.08</td>\n",
       "      <td>\\r\\n\\t\\t\\t\\t\\t This is a generic drug. The ave...</td>\n",
       "      <td>3.0 2.78 2.08 \\r\\n\\t\\t\\t\\t\\t This is a generic...</td>\n",
       "    </tr>\n",
       "    <tr>\n",
       "      <th>3</th>\n",
       "      <td>Acute Bacterial Sinusitis</td>\n",
       "      <td>Azithromycin</td>\n",
       "      <td>On Label</td>\n",
       "      <td>RX</td>\n",
       "      <td>584.0</td>\n",
       "      <td>3.21</td>\n",
       "      <td>4.01</td>\n",
       "      <td>2.57</td>\n",
       "      <td>\\r\\n\\t\\t\\t\\t\\tAzithromycin is an antibiotic (m...</td>\n",
       "      <td>4.01 3.21 2.57 \\r\\n\\t\\t\\t\\t\\tAzithromycin is a...</td>\n",
       "    </tr>\n",
       "    <tr>\n",
       "      <th>8</th>\n",
       "      <td>Acute Bacterial Sinusitis</td>\n",
       "      <td>Amoxicillin-Pot Clavulanate</td>\n",
       "      <td>On Label</td>\n",
       "      <td>RX</td>\n",
       "      <td>437.0</td>\n",
       "      <td>3.26</td>\n",
       "      <td>3.23</td>\n",
       "      <td>2.42</td>\n",
       "      <td>\\r\\n\\t\\t\\t\\t\\tAmoxicillin/clavulanic acid is a...</td>\n",
       "      <td>3.23 3.26 2.42 \\r\\n\\t\\t\\t\\t\\tAmoxicillin/clavu...</td>\n",
       "    </tr>\n",
       "    <tr>\n",
       "      <th>11</th>\n",
       "      <td>Acute Bacterial Sinusitis</td>\n",
       "      <td>Levofloxacin</td>\n",
       "      <td>On Label</td>\n",
       "      <td>RX</td>\n",
       "      <td>361.0</td>\n",
       "      <td>2.44</td>\n",
       "      <td>2.96</td>\n",
       "      <td>1.68</td>\n",
       "      <td>\\r\\n\\t\\t\\t\\t\\tLevofloxacin is used to treat a ...</td>\n",
       "      <td>2.96 2.44 1.68 \\r\\n\\t\\t\\t\\t\\tLevofloxacin is u...</td>\n",
       "    </tr>\n",
       "  </tbody>\n",
       "</table>\n",
       "</div>"
      ],
      "text/plain": [
       "                    Condition                         Drug Indication Type  \\\n",
       "0   Acute Bacterial Sinusitis                 Levofloxacin   On Label   RX   \n",
       "2   Acute Bacterial Sinusitis                 Moxifloxacin   On Label   RX   \n",
       "3   Acute Bacterial Sinusitis                 Azithromycin   On Label   RX   \n",
       "8   Acute Bacterial Sinusitis  Amoxicillin-Pot Clavulanate   On Label   RX   \n",
       "11  Acute Bacterial Sinusitis                 Levofloxacin   On Label   RX   \n",
       "\n",
       "    Reviews  Effective  EaseOfUse  Satisfaction  \\\n",
       "0     994.0       2.52       3.01          1.84   \n",
       "2     755.0       2.78       3.00          2.08   \n",
       "3     584.0       3.21       4.01          2.57   \n",
       "8     437.0       3.26       3.23          2.42   \n",
       "11    361.0       2.44       2.96          1.68   \n",
       "\n",
       "                                          Information  \\\n",
       "0   \\r\\n\\t\\t\\t\\t\\tLevofloxacin is used to treat a ...   \n",
       "2   \\r\\n\\t\\t\\t\\t\\t This is a generic drug. The ave...   \n",
       "3   \\r\\n\\t\\t\\t\\t\\tAzithromycin is an antibiotic (m...   \n",
       "8   \\r\\n\\t\\t\\t\\t\\tAmoxicillin/clavulanic acid is a...   \n",
       "11  \\r\\n\\t\\t\\t\\t\\tLevofloxacin is used to treat a ...   \n",
       "\n",
       "                                    combined_features  \n",
       "0   3.01 2.52 1.84 \\r\\n\\t\\t\\t\\t\\tLevofloxacin is u...  \n",
       "2   3.0 2.78 2.08 \\r\\n\\t\\t\\t\\t\\t This is a generic...  \n",
       "3   4.01 3.21 2.57 \\r\\n\\t\\t\\t\\t\\tAzithromycin is a...  \n",
       "8   3.23 3.26 2.42 \\r\\n\\t\\t\\t\\t\\tAmoxicillin/clavu...  \n",
       "11  2.96 2.44 1.68 \\r\\n\\t\\t\\t\\t\\tLevofloxacin is u...  "
      ]
     },
     "execution_count": 206,
     "metadata": {},
     "output_type": "execute_result"
    }
   ],
   "source": [
    "df.head()"
   ]
  },
  {
   "cell_type": "code",
   "execution_count": 207,
   "id": "07f7c619",
   "metadata": {},
   "outputs": [],
   "source": [
    "df_condition = df[df['Condition'] == condition]"
   ]
  },
  {
   "cell_type": "code",
   "execution_count": 208,
   "id": "86c5a0d3",
   "metadata": {},
   "outputs": [
    {
     "data": {
      "text/html": [
       "<div>\n",
       "<style scoped>\n",
       "    .dataframe tbody tr th:only-of-type {\n",
       "        vertical-align: middle;\n",
       "    }\n",
       "\n",
       "    .dataframe tbody tr th {\n",
       "        vertical-align: top;\n",
       "    }\n",
       "\n",
       "    .dataframe thead th {\n",
       "        text-align: right;\n",
       "    }\n",
       "</style>\n",
       "<table border=\"1\" class=\"dataframe\">\n",
       "  <thead>\n",
       "    <tr style=\"text-align: right;\">\n",
       "      <th></th>\n",
       "      <th>Condition</th>\n",
       "      <th>Drug</th>\n",
       "      <th>Indication</th>\n",
       "      <th>Type</th>\n",
       "      <th>Reviews</th>\n",
       "      <th>Effective</th>\n",
       "      <th>EaseOfUse</th>\n",
       "      <th>Satisfaction</th>\n",
       "      <th>Information</th>\n",
       "      <th>combined_features</th>\n",
       "    </tr>\n",
       "  </thead>\n",
       "  <tbody>\n",
       "    <tr>\n",
       "      <th>1666</th>\n",
       "      <td>hypertension</td>\n",
       "      <td>Lisinopril</td>\n",
       "      <td>On Label</td>\n",
       "      <td>RX</td>\n",
       "      <td>4268.0</td>\n",
       "      <td>3.40</td>\n",
       "      <td>4.00</td>\n",
       "      <td>2.72</td>\n",
       "      <td>\\r\\n\\t\\t\\t\\t\\t This is a generic drug. The ave...</td>\n",
       "      <td>4.0 3.4 2.72 \\r\\n\\t\\t\\t\\t\\t This is a generic ...</td>\n",
       "    </tr>\n",
       "    <tr>\n",
       "      <th>1668</th>\n",
       "      <td>hypertension</td>\n",
       "      <td>Atenolol</td>\n",
       "      <td>On Label</td>\n",
       "      <td>RX</td>\n",
       "      <td>1268.0</td>\n",
       "      <td>3.74</td>\n",
       "      <td>4.29</td>\n",
       "      <td>3.35</td>\n",
       "      <td>\\r\\n\\t\\t\\t\\t\\tAtenolol is used with or without...</td>\n",
       "      <td>4.29 3.74 3.35 \\r\\n\\t\\t\\t\\t\\tAtenolol is used ...</td>\n",
       "    </tr>\n",
       "    <tr>\n",
       "      <th>1669</th>\n",
       "      <td>hypertension</td>\n",
       "      <td>Nebivolol</td>\n",
       "      <td>On Label</td>\n",
       "      <td>RX</td>\n",
       "      <td>895.0</td>\n",
       "      <td>3.28</td>\n",
       "      <td>3.97</td>\n",
       "      <td>2.66</td>\n",
       "      <td>\\r\\n\\t\\t\\t\\t\\tNebivolol is used to treat high ...</td>\n",
       "      <td>3.97 3.28 2.66 \\r\\n\\t\\t\\t\\t\\tNebivolol is used...</td>\n",
       "    </tr>\n",
       "    <tr>\n",
       "      <th>1670</th>\n",
       "      <td>hypertension</td>\n",
       "      <td>Valsartan</td>\n",
       "      <td>On Label</td>\n",
       "      <td>RX</td>\n",
       "      <td>853.0</td>\n",
       "      <td>3.55</td>\n",
       "      <td>4.14</td>\n",
       "      <td>3.04</td>\n",
       "      <td>\\r\\n\\t\\t\\t\\t\\tValsartan is used to treat high ...</td>\n",
       "      <td>4.14 3.55 3.04 \\r\\n\\t\\t\\t\\t\\tValsartan is used...</td>\n",
       "    </tr>\n",
       "    <tr>\n",
       "      <th>1671</th>\n",
       "      <td>hypertension</td>\n",
       "      <td>Hydrochlorothiazide</td>\n",
       "      <td>On Label</td>\n",
       "      <td>RX</td>\n",
       "      <td>853.0</td>\n",
       "      <td>3.30</td>\n",
       "      <td>3.96</td>\n",
       "      <td>2.77</td>\n",
       "      <td>\\r\\n\\t\\t\\t\\t\\tThis medication is used to treat...</td>\n",
       "      <td>3.96 3.3 2.77 \\r\\n\\t\\t\\t\\t\\tThis medication is...</td>\n",
       "    </tr>\n",
       "  </tbody>\n",
       "</table>\n",
       "</div>"
      ],
      "text/plain": [
       "         Condition                 Drug Indication Type  Reviews  Effective  \\\n",
       "1666  hypertension           Lisinopril   On Label   RX   4268.0       3.40   \n",
       "1668  hypertension             Atenolol   On Label   RX   1268.0       3.74   \n",
       "1669  hypertension            Nebivolol   On Label   RX    895.0       3.28   \n",
       "1670  hypertension            Valsartan   On Label   RX    853.0       3.55   \n",
       "1671  hypertension  Hydrochlorothiazide   On Label   RX    853.0       3.30   \n",
       "\n",
       "      EaseOfUse  Satisfaction  \\\n",
       "1666       4.00          2.72   \n",
       "1668       4.29          3.35   \n",
       "1669       3.97          2.66   \n",
       "1670       4.14          3.04   \n",
       "1671       3.96          2.77   \n",
       "\n",
       "                                            Information  \\\n",
       "1666  \\r\\n\\t\\t\\t\\t\\t This is a generic drug. The ave...   \n",
       "1668  \\r\\n\\t\\t\\t\\t\\tAtenolol is used with or without...   \n",
       "1669  \\r\\n\\t\\t\\t\\t\\tNebivolol is used to treat high ...   \n",
       "1670  \\r\\n\\t\\t\\t\\t\\tValsartan is used to treat high ...   \n",
       "1671  \\r\\n\\t\\t\\t\\t\\tThis medication is used to treat...   \n",
       "\n",
       "                                      combined_features  \n",
       "1666  4.0 3.4 2.72 \\r\\n\\t\\t\\t\\t\\t This is a generic ...  \n",
       "1668  4.29 3.74 3.35 \\r\\n\\t\\t\\t\\t\\tAtenolol is used ...  \n",
       "1669  3.97 3.28 2.66 \\r\\n\\t\\t\\t\\t\\tNebivolol is used...  \n",
       "1670  4.14 3.55 3.04 \\r\\n\\t\\t\\t\\t\\tValsartan is used...  \n",
       "1671  3.96 3.3 2.77 \\r\\n\\t\\t\\t\\t\\tThis medication is...  "
      ]
     },
     "execution_count": 208,
     "metadata": {},
     "output_type": "execute_result"
    }
   ],
   "source": [
    "df_condition.head()"
   ]
  },
  {
   "cell_type": "code",
   "execution_count": 209,
   "id": "ecfcc754",
   "metadata": {},
   "outputs": [],
   "source": [
    "tfidf = TfidfVectorizer(stop_words='english')"
   ]
  },
  {
   "cell_type": "code",
   "execution_count": 210,
   "id": "e03d9287",
   "metadata": {},
   "outputs": [],
   "source": [
    "tfidf_matrix = tfidf.fit_transform(df_condition['combined_features'])"
   ]
  },
  {
   "cell_type": "code",
   "execution_count": 211,
   "id": "fcb194d9",
   "metadata": {},
   "outputs": [
    {
     "data": {
      "text/plain": [
       "<215x348 sparse matrix of type '<class 'numpy.float64'>'\n",
       "\twith 7312 stored elements in Compressed Sparse Row format>"
      ]
     },
     "execution_count": 211,
     "metadata": {},
     "output_type": "execute_result"
    }
   ],
   "source": [
    "tfidf_matrix"
   ]
  },
  {
   "cell_type": "code",
   "execution_count": 212,
   "id": "f379e73e",
   "metadata": {},
   "outputs": [],
   "source": [
    "cosine_sim = cosine_similarity(tfidf_matrix, tfidf_matrix)"
   ]
  },
  {
   "cell_type": "code",
   "execution_count": 213,
   "id": "893995d8",
   "metadata": {
    "scrolled": true
   },
   "outputs": [
    {
     "data": {
      "text/plain": [
       "array([[1.        , 0.21058557, 0.17829093, ..., 0.28155963, 0.19457878,\n",
       "        0.22032936],\n",
       "       [0.21058557, 1.        , 0.20052231, ..., 0.17558762, 0.20015548,\n",
       "        0.23662826],\n",
       "       [0.17829093, 0.20052231, 1.        , ..., 0.34455707, 0.21218925,\n",
       "        0.23613295],\n",
       "       ...,\n",
       "       [0.28155963, 0.17558762, 0.34455707, ..., 1.        , 0.21719503,\n",
       "        0.23549076],\n",
       "       [0.19457878, 0.20015548, 0.21218925, ..., 0.21719503, 1.        ,\n",
       "        0.3107959 ],\n",
       "       [0.22032936, 0.23662826, 0.23613295, ..., 0.23549076, 0.3107959 ,\n",
       "        1.        ]])"
      ]
     },
     "execution_count": 213,
     "metadata": {},
     "output_type": "execute_result"
    }
   ],
   "source": [
    "cosine_sim"
   ]
  },
  {
   "cell_type": "code",
   "execution_count": 214,
   "id": "4afac467",
   "metadata": {},
   "outputs": [],
   "source": [
    "drug_indices = np.argsort(cosine_sim[-1])[:-6:-1]"
   ]
  },
  {
   "cell_type": "code",
   "execution_count": 215,
   "id": "9a8f2720",
   "metadata": {},
   "outputs": [
    {
     "data": {
      "text/plain": [
       "array([214, 190,  54, 133, 128], dtype=int64)"
      ]
     },
     "execution_count": 215,
     "metadata": {},
     "output_type": "execute_result"
    }
   ],
   "source": [
    "drug_indices"
   ]
  },
  {
   "cell_type": "code",
   "execution_count": 216,
   "id": "e8af6f20",
   "metadata": {},
   "outputs": [
    {
     "name": "stdout",
     "output_type": "stream",
     "text": [
      "Recommended drugs for hypertension:\n",
      "- Chlorthalidone\n",
      "- Chlorthalidone\n",
      "- Atenolol-Chlorthalidone\n",
      "- Atenolol-Chlorthalidone\n"
     ]
    }
   ],
   "source": [
    "print('Recommended drugs for {}:'.format(condition))\n",
    "for idx in drug_indices[1:]:\n",
    "    print('- {}'.format(df_condition.iloc[idx]['Drug']))"
   ]
  },
  {
   "cell_type": "code",
   "execution_count": null,
   "id": "60b60ebe",
   "metadata": {},
   "outputs": [],
   "source": []
  }
 ],
 "metadata": {
  "kernelspec": {
   "display_name": "Python 3 (ipykernel)",
   "language": "python",
   "name": "python3"
  },
  "language_info": {
   "codemirror_mode": {
    "name": "ipython",
    "version": 3
   },
   "file_extension": ".py",
   "mimetype": "text/x-python",
   "name": "python",
   "nbconvert_exporter": "python",
   "pygments_lexer": "ipython3",
   "version": "3.10.9"
  }
 },
 "nbformat": 4,
 "nbformat_minor": 5
}
